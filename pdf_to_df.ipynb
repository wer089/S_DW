{
 "cells": [
  {
   "cell_type": "code",
   "execution_count": 28,
   "outputs": [],
   "source": [
    "import numpy as np # linear algebra\n",
    "import pandas as pd # data processing, CSV file I/O (e.g. pd.read_csv)\n",
    "import glob\n",
    "import json\n",
    "import os\n",
    "import tqdm\n",
    "from langdetect import detect\n",
    "from langdetect import DetectorFactory\n",
    "\n",
    "import matplotlib.pyplot as plt\n",
    "plt.style.use('ggplot')"
   ],
   "metadata": {
    "collapsed": false
   }
  },
  {
   "cell_type": "code",
   "execution_count": 5,
   "outputs": [
    {
     "name": "stderr",
     "output_type": "stream",
     "text": [
      "C:\\Users\\JACKTANSNAKE\\AppData\\Local\\Temp\\ipykernel_14700\\2995585893.py:3: DtypeWarning: Columns (1,5,13,14,15,16) have mixed types. Specify dtype option on import or set low_memory=False.\n",
      "  meta_df = pd.read_csv(metadata_path, dtype={\n"
     ]
    },
    {
     "data": {
      "text/plain": "   cord_uid                                       sha source_x  \\\n0  ug7v899j  d1aafb70c066a2068b02786f8929fd9c900897fb      PMC   \n1  02tnwd4m  6b0567729c2143a66d737eb0a2f63f2dce2e5a7d      PMC   \n2  ejv2xln0  06ced00a5fc04215949aa72528f2eeaae1d58927      PMC   \n3  2b73a28n  348055649b6b8cf2b9a376498df9bf41f7123605      PMC   \n4  9785vg6d  5f48792a5fa08bed9f56016f4981ae2ca6031b32      PMC   \n\n                                               title                    doi  \\\n0  Clinical features of culture-proven Mycoplasma...  10.1186/1471-2334-1-6   \n1  Nitric oxide: a pro-inflammatory mediator in l...           10.1186/rr14   \n2    Surfactant protein-D and pulmonary host defense           10.1186/rr19   \n3               Role of endothelin-1 in lung disease           10.1186/rr44   \n4  Gene expression in epithelial cells in respons...           10.1186/rr61   \n\n      pmcid pubmed_id license  \\\n0  PMC35282  11472636   no-cc   \n1  PMC59543  11667967   no-cc   \n2  PMC59549  11667972   no-cc   \n3  PMC59574  11686871   no-cc   \n4  PMC59580  11686888   no-cc   \n\n                                            abstract publish_time  \\\n0  OBJECTIVE: This retrospective chart review des...   2001-07-04   \n1  Inflammatory diseases of the respiratory tract...   2000-08-15   \n2  Surfactant protein-D (SP-D) participates in th...   2000-08-25   \n3  Endothelin-1 (ET-1) is a 21 amino acid peptide...   2001-02-22   \n4  Respiratory syncytial virus (RSV) and pneumoni...   2001-05-11   \n\n                                             authors         journal  mag_id  \\\n0                Madani, Tariq A; Al-Ghamdi, Aisha A  BMC Infect Dis     NaN   \n1  Vliet, Albert van der; Eiserich, Jason P; Cros...      Respir Res     NaN   \n2                                    Crouch, Erika C      Respir Res     NaN   \n3  Fagan, Karen A; McMurtry, Ivan F; Rodman, David M      Respir Res     NaN   \n4  Domachowske, Joseph B; Bonville, Cynthia A; Ro...      Respir Res     NaN   \n\n  who_covidence_id arxiv_id  \\\n0              NaN      NaN   \n1              NaN      NaN   \n2              NaN      NaN   \n3              NaN      NaN   \n4              NaN      NaN   \n\n                                      pdf_json_files  \\\n0  document_parses/pdf_json/d1aafb70c066a2068b027...   \n1  document_parses/pdf_json/6b0567729c2143a66d737...   \n2  document_parses/pdf_json/06ced00a5fc04215949aa...   \n3  document_parses/pdf_json/348055649b6b8cf2b9a37...   \n4  document_parses/pdf_json/5f48792a5fa08bed9f560...   \n\n                               pmc_json_files  \\\n0  document_parses/pmc_json/PMC35282.xml.json   \n1  document_parses/pmc_json/PMC59543.xml.json   \n2  document_parses/pmc_json/PMC59549.xml.json   \n3  document_parses/pmc_json/PMC59574.xml.json   \n4  document_parses/pmc_json/PMC59580.xml.json   \n\n                                                 url  s2_id  \n0  https://www.ncbi.nlm.nih.gov/pmc/articles/PMC3...    NaN  \n1  https://www.ncbi.nlm.nih.gov/pmc/articles/PMC5...    NaN  \n2  https://www.ncbi.nlm.nih.gov/pmc/articles/PMC5...    NaN  \n3  https://www.ncbi.nlm.nih.gov/pmc/articles/PMC5...    NaN  \n4  https://www.ncbi.nlm.nih.gov/pmc/articles/PMC5...    NaN  ",
      "text/html": "<div>\n<style scoped>\n    .dataframe tbody tr th:only-of-type {\n        vertical-align: middle;\n    }\n\n    .dataframe tbody tr th {\n        vertical-align: top;\n    }\n\n    .dataframe thead th {\n        text-align: right;\n    }\n</style>\n<table border=\"1\" class=\"dataframe\">\n  <thead>\n    <tr style=\"text-align: right;\">\n      <th></th>\n      <th>cord_uid</th>\n      <th>sha</th>\n      <th>source_x</th>\n      <th>title</th>\n      <th>doi</th>\n      <th>pmcid</th>\n      <th>pubmed_id</th>\n      <th>license</th>\n      <th>abstract</th>\n      <th>publish_time</th>\n      <th>authors</th>\n      <th>journal</th>\n      <th>mag_id</th>\n      <th>who_covidence_id</th>\n      <th>arxiv_id</th>\n      <th>pdf_json_files</th>\n      <th>pmc_json_files</th>\n      <th>url</th>\n      <th>s2_id</th>\n    </tr>\n  </thead>\n  <tbody>\n    <tr>\n      <th>0</th>\n      <td>ug7v899j</td>\n      <td>d1aafb70c066a2068b02786f8929fd9c900897fb</td>\n      <td>PMC</td>\n      <td>Clinical features of culture-proven Mycoplasma...</td>\n      <td>10.1186/1471-2334-1-6</td>\n      <td>PMC35282</td>\n      <td>11472636</td>\n      <td>no-cc</td>\n      <td>OBJECTIVE: This retrospective chart review des...</td>\n      <td>2001-07-04</td>\n      <td>Madani, Tariq A; Al-Ghamdi, Aisha A</td>\n      <td>BMC Infect Dis</td>\n      <td>NaN</td>\n      <td>NaN</td>\n      <td>NaN</td>\n      <td>document_parses/pdf_json/d1aafb70c066a2068b027...</td>\n      <td>document_parses/pmc_json/PMC35282.xml.json</td>\n      <td>https://www.ncbi.nlm.nih.gov/pmc/articles/PMC3...</td>\n      <td>NaN</td>\n    </tr>\n    <tr>\n      <th>1</th>\n      <td>02tnwd4m</td>\n      <td>6b0567729c2143a66d737eb0a2f63f2dce2e5a7d</td>\n      <td>PMC</td>\n      <td>Nitric oxide: a pro-inflammatory mediator in l...</td>\n      <td>10.1186/rr14</td>\n      <td>PMC59543</td>\n      <td>11667967</td>\n      <td>no-cc</td>\n      <td>Inflammatory diseases of the respiratory tract...</td>\n      <td>2000-08-15</td>\n      <td>Vliet, Albert van der; Eiserich, Jason P; Cros...</td>\n      <td>Respir Res</td>\n      <td>NaN</td>\n      <td>NaN</td>\n      <td>NaN</td>\n      <td>document_parses/pdf_json/6b0567729c2143a66d737...</td>\n      <td>document_parses/pmc_json/PMC59543.xml.json</td>\n      <td>https://www.ncbi.nlm.nih.gov/pmc/articles/PMC5...</td>\n      <td>NaN</td>\n    </tr>\n    <tr>\n      <th>2</th>\n      <td>ejv2xln0</td>\n      <td>06ced00a5fc04215949aa72528f2eeaae1d58927</td>\n      <td>PMC</td>\n      <td>Surfactant protein-D and pulmonary host defense</td>\n      <td>10.1186/rr19</td>\n      <td>PMC59549</td>\n      <td>11667972</td>\n      <td>no-cc</td>\n      <td>Surfactant protein-D (SP-D) participates in th...</td>\n      <td>2000-08-25</td>\n      <td>Crouch, Erika C</td>\n      <td>Respir Res</td>\n      <td>NaN</td>\n      <td>NaN</td>\n      <td>NaN</td>\n      <td>document_parses/pdf_json/06ced00a5fc04215949aa...</td>\n      <td>document_parses/pmc_json/PMC59549.xml.json</td>\n      <td>https://www.ncbi.nlm.nih.gov/pmc/articles/PMC5...</td>\n      <td>NaN</td>\n    </tr>\n    <tr>\n      <th>3</th>\n      <td>2b73a28n</td>\n      <td>348055649b6b8cf2b9a376498df9bf41f7123605</td>\n      <td>PMC</td>\n      <td>Role of endothelin-1 in lung disease</td>\n      <td>10.1186/rr44</td>\n      <td>PMC59574</td>\n      <td>11686871</td>\n      <td>no-cc</td>\n      <td>Endothelin-1 (ET-1) is a 21 amino acid peptide...</td>\n      <td>2001-02-22</td>\n      <td>Fagan, Karen A; McMurtry, Ivan F; Rodman, David M</td>\n      <td>Respir Res</td>\n      <td>NaN</td>\n      <td>NaN</td>\n      <td>NaN</td>\n      <td>document_parses/pdf_json/348055649b6b8cf2b9a37...</td>\n      <td>document_parses/pmc_json/PMC59574.xml.json</td>\n      <td>https://www.ncbi.nlm.nih.gov/pmc/articles/PMC5...</td>\n      <td>NaN</td>\n    </tr>\n    <tr>\n      <th>4</th>\n      <td>9785vg6d</td>\n      <td>5f48792a5fa08bed9f56016f4981ae2ca6031b32</td>\n      <td>PMC</td>\n      <td>Gene expression in epithelial cells in respons...</td>\n      <td>10.1186/rr61</td>\n      <td>PMC59580</td>\n      <td>11686888</td>\n      <td>no-cc</td>\n      <td>Respiratory syncytial virus (RSV) and pneumoni...</td>\n      <td>2001-05-11</td>\n      <td>Domachowske, Joseph B; Bonville, Cynthia A; Ro...</td>\n      <td>Respir Res</td>\n      <td>NaN</td>\n      <td>NaN</td>\n      <td>NaN</td>\n      <td>document_parses/pdf_json/5f48792a5fa08bed9f560...</td>\n      <td>document_parses/pmc_json/PMC59580.xml.json</td>\n      <td>https://www.ncbi.nlm.nih.gov/pmc/articles/PMC5...</td>\n      <td>NaN</td>\n    </tr>\n  </tbody>\n</table>\n</div>"
     },
     "execution_count": 5,
     "metadata": {},
     "output_type": "execute_result"
    }
   ],
   "source": [
    "root_path = '../Data'\n",
    "metadata_path = f'{root_path}/metadata.csv'\n",
    "meta_df = pd.read_csv(metadata_path, dtype={\n",
    "    'pubmed_id': str,\n",
    "    'Microsoft Academic Paper ID': str,\n",
    "    'doi': str\n",
    "})\n",
    "meta_df.head()"
   ],
   "metadata": {
    "collapsed": false
   }
  },
  {
   "cell_type": "code",
   "execution_count": 6,
   "outputs": [
    {
     "name": "stdout",
     "output_type": "stream",
     "text": [
      "<class 'pandas.core.frame.DataFrame'>\n",
      "RangeIndex: 1056660 entries, 0 to 1056659\n",
      "Data columns (total 19 columns):\n",
      " #   Column            Non-Null Count    Dtype  \n",
      "---  ------            --------------    -----  \n",
      " 0   cord_uid          1056660 non-null  object \n",
      " 1   sha               373766 non-null   object \n",
      " 2   source_x          1056660 non-null  object \n",
      " 3   title             1056157 non-null  object \n",
      " 4   doi               656780 non-null   object \n",
      " 5   pmcid             389571 non-null   object \n",
      " 6   pubmed_id         498932 non-null   object \n",
      " 7   license           1056660 non-null  object \n",
      " 8   abstract          821118 non-null   object \n",
      " 9   publish_time      1054846 non-null  object \n",
      " 10  authors           1032791 non-null  object \n",
      " 11  journal           969338 non-null   object \n",
      " 12  mag_id            0 non-null        float64\n",
      " 13  who_covidence_id  482935 non-null   object \n",
      " 14  arxiv_id          14249 non-null    object \n",
      " 15  pdf_json_files    373766 non-null   object \n",
      " 16  pmc_json_files    315742 non-null   object \n",
      " 17  url               686934 non-null   object \n",
      " 18  s2_id             976468 non-null   float64\n",
      "dtypes: float64(2), object(17)\n",
      "memory usage: 153.2+ MB\n"
     ]
    }
   ],
   "source": [
    "meta_df.info()"
   ],
   "metadata": {
    "collapsed": false
   }
  },
  {
   "cell_type": "code",
   "execution_count": 10,
   "outputs": [
    {
     "data": {
      "text/plain": "(970836,)"
     },
     "execution_count": 10,
     "metadata": {},
     "output_type": "execute_result"
    }
   ],
   "source": [
    "np.unique(meta_df['cord_uid']).shape"
   ],
   "metadata": {
    "collapsed": false
   }
  },
  {
   "cell_type": "code",
   "execution_count": 19,
   "outputs": [],
   "source": [
    "def get_dir_list(folder_dir):\n",
    "    \"\"\"\n",
    "    Get all file names in a directory.\n",
    "    :param folder_dir:\n",
    "    :return:\n",
    "    \"\"\"\n",
    "    dirlist = []\n",
    "    directory = os.fsencode(folder_dir)\n",
    "\n",
    "    for file in os.listdir(directory):\n",
    "        filename = os.path.join(directory, file)\n",
    "        filename = os.fsdecode(filename)\n",
    "        dirlist.append(str(filename))\n",
    "\n",
    "    return dirlist"
   ],
   "metadata": {
    "collapsed": false
   }
  },
  {
   "cell_type": "code",
   "execution_count": 20,
   "outputs": [],
   "source": [
    "pdf_json_list_dir = r'../Data/pdf_json'\n",
    "pdf_json_list = get_dir_list(pdf_json_list_dir)"
   ],
   "metadata": {
    "collapsed": false
   }
  },
  {
   "cell_type": "code",
   "execution_count": 21,
   "outputs": [
    {
     "name": "stdout",
     "output_type": "stream",
     "text": [
      "0000028b5cc154f68b8a269f6578f21e31f62977: ... According to current live statistics at the time of editing this letter, Russia has been the third country in the world to be affected by COVID-19 with both new cases and death rates rising. It remain...\n"
     ]
    }
   ],
   "source": [
    "class FileReader:\n",
    "    def __init__(self, file_path):\n",
    "        with open(file_path) as file:\n",
    "            content = json.load(file)\n",
    "            self.paper_id = content['paper_id']\n",
    "            self.abstract = []\n",
    "            self.body_text = []\n",
    "            # Abstract\n",
    "            for entry in content['abstract']:\n",
    "                self.abstract.append(entry['text'])\n",
    "            # Body text\n",
    "            for entry in content['body_text']:\n",
    "                self.body_text.append(entry['text'])\n",
    "            self.abstract = '\\n'.join(self.abstract)\n",
    "            self.body_text = '\\n'.join(self.body_text)\n",
    "    def __repr__(self):\n",
    "        return f'{self.paper_id}: {self.abstract[:200]}... {self.body_text[:200]}...'\n",
    "first_row = FileReader(pdf_json_list[0])\n",
    "print(first_row)"
   ],
   "metadata": {
    "collapsed": false
   }
  },
  {
   "cell_type": "code",
   "execution_count": 22,
   "outputs": [
    {
     "name": "stderr",
     "output_type": "stream",
     "text": [
      "100%|██████████| 401212/401212 [29:51<00:00, 223.99it/s]\n"
     ]
    },
    {
     "data": {
      "text/plain": "401212"
     },
     "execution_count": 22,
     "metadata": {},
     "output_type": "execute_result"
    }
   ],
   "source": [
    "from tqdm import tqdm\n",
    "all_json_clean = list()\n",
    "for idx, entry in tqdm(enumerate(pdf_json_list), total=len(pdf_json_list)):\n",
    "\n",
    "    try:\n",
    "        content = FileReader(entry)\n",
    "    except Exception as e:\n",
    "        continue  # invalid paper format, skip\n",
    "\n",
    "    if len(content.body_text) == 0:\n",
    "        continue\n",
    "\n",
    "    all_json_clean.append(pdf_json_list[idx])\n",
    "\n",
    "all_json = all_json_clean\n",
    "len(all_json)"
   ],
   "metadata": {
    "collapsed": false
   }
  },
  {
   "cell_type": "code",
   "execution_count": 23,
   "outputs": [],
   "source": [
    "def get_breaks(content, length):\n",
    "    data = \"\"\n",
    "    words = content.split(' ')\n",
    "    total_chars = 0\n",
    "\n",
    "    # add break every length characters\n",
    "    for i in range(len(words)):\n",
    "        total_chars += len(words[i])\n",
    "        if total_chars > length:\n",
    "            data = data + \"<br>\" + words[i]\n",
    "            total_chars = 0\n",
    "        else:\n",
    "            data = data + \" \" + words[i]\n",
    "    return data"
   ],
   "metadata": {
    "collapsed": false
   }
  },
  {
   "cell_type": "code",
   "execution_count": 25,
   "outputs": [
    {
     "name": "stderr",
     "output_type": "stream",
     "text": [
      "100%|██████████| 401212/401212 [5:00:40<00:00, 22.24it/s]  \n"
     ]
    },
    {
     "data": {
      "text/plain": "                                   paper_id                          doi  \\\n0  0000028b5cc154f68b8a269f6578f21e31f62977            10.1002/bjs.11940   \n1  0000b6da665726420ab8ac9246d526f2f44d5943             10.1002/lio2.665   \n2  0000b93c66f991236db92dc16fa6db119b27ca12  10.1007/978-3-030-36358-1_7   \n3  0000fcce604204b1b9d876dc073eb529eb5ce305   10.1016/j.regg.2021.01.002   \n4  000122a9a774ec76fa35ec0c0f6734e7e8d0c541    10.1016/j.rec.2020.08.002   \n\n                                            abstract  \\\n0                                                      \n1  Objective: An at home-test for differentiating...   \n2                                                      \n3  Contribución de los autores: Rocío Menéndez Co...   \n4  Introduction and objectives: The COVID-19 outb...   \n\n                                           body_text  \\\n0  According to current live statistics at the ti...   \n1  As a consequence of the global COVID-19 pandem...   \n2  Infections are an important cause of morbidity...   \n3  Se calcula que en España existen cerca de 367....   \n4  Introduction and objectives: The COVID-19 outb...   \n\n                                             authors  \\\n0   Tsarkov, Petr V..  Zubayraeva, Albina A.. <br...   \n1   Yang, Alex.  Lewis, Robert J..  Watson, Nora....   \n2                George, Biju.  Bhattacharya, Sanjay   \n3   Menéndez-Colino, Rocío.  Argentina,<br>France...   \n4   Rodríguez-Leor, Oriol.  Cid-Álvarez, Belén. <...   \n\n                                               title  \\\n0    “Multi‐faceted” COVID‐19: Russian<br>experience   \n1   The cell phone vibration test: A telemedicine...   \n2   Infections in Hematopoietic Stem Cell<br>Tran...   \n3   La Geriatría de Enlace con residencias en la<...   \n4   Impact of COVID-19 on ST-segment elevation<br...   \n\n                                    journal  \\\n0                                 Br J Surg   \n1         Laryngoscope Investig Otolaryngol   \n2  Contemporary Bone Marrow Transplantation   \n3                  Rev Esp Geriatr Gerontol   \n4                 Rev Esp Cardiol (Engl Ed)   \n\n                                    abstract_summary  \n0                                      Not provided.  \n1   Objective: An at home-test for<br>differentia...  \n2                                      Not provided.  \n3   Contribución de los autores: Rocío Menéndez<b...  \n4   Introduction and objectives: The COVID-19<br>...  ",
      "text/html": "<div>\n<style scoped>\n    .dataframe tbody tr th:only-of-type {\n        vertical-align: middle;\n    }\n\n    .dataframe tbody tr th {\n        vertical-align: top;\n    }\n\n    .dataframe thead th {\n        text-align: right;\n    }\n</style>\n<table border=\"1\" class=\"dataframe\">\n  <thead>\n    <tr style=\"text-align: right;\">\n      <th></th>\n      <th>paper_id</th>\n      <th>doi</th>\n      <th>abstract</th>\n      <th>body_text</th>\n      <th>authors</th>\n      <th>title</th>\n      <th>journal</th>\n      <th>abstract_summary</th>\n    </tr>\n  </thead>\n  <tbody>\n    <tr>\n      <th>0</th>\n      <td>0000028b5cc154f68b8a269f6578f21e31f62977</td>\n      <td>10.1002/bjs.11940</td>\n      <td></td>\n      <td>According to current live statistics at the ti...</td>\n      <td>Tsarkov, Petr V..  Zubayraeva, Albina A.. &lt;br...</td>\n      <td>“Multi‐faceted” COVID‐19: Russian&lt;br&gt;experience</td>\n      <td>Br J Surg</td>\n      <td>Not provided.</td>\n    </tr>\n    <tr>\n      <th>1</th>\n      <td>0000b6da665726420ab8ac9246d526f2f44d5943</td>\n      <td>10.1002/lio2.665</td>\n      <td>Objective: An at home-test for differentiating...</td>\n      <td>As a consequence of the global COVID-19 pandem...</td>\n      <td>Yang, Alex.  Lewis, Robert J..  Watson, Nora....</td>\n      <td>The cell phone vibration test: A telemedicine...</td>\n      <td>Laryngoscope Investig Otolaryngol</td>\n      <td>Objective: An at home-test for&lt;br&gt;differentia...</td>\n    </tr>\n    <tr>\n      <th>2</th>\n      <td>0000b93c66f991236db92dc16fa6db119b27ca12</td>\n      <td>10.1007/978-3-030-36358-1_7</td>\n      <td></td>\n      <td>Infections are an important cause of morbidity...</td>\n      <td>George, Biju.  Bhattacharya, Sanjay</td>\n      <td>Infections in Hematopoietic Stem Cell&lt;br&gt;Tran...</td>\n      <td>Contemporary Bone Marrow Transplantation</td>\n      <td>Not provided.</td>\n    </tr>\n    <tr>\n      <th>3</th>\n      <td>0000fcce604204b1b9d876dc073eb529eb5ce305</td>\n      <td>10.1016/j.regg.2021.01.002</td>\n      <td>Contribución de los autores: Rocío Menéndez Co...</td>\n      <td>Se calcula que en España existen cerca de 367....</td>\n      <td>Menéndez-Colino, Rocío.  Argentina,&lt;br&gt;France...</td>\n      <td>La Geriatría de Enlace con residencias en la&lt;...</td>\n      <td>Rev Esp Geriatr Gerontol</td>\n      <td>Contribución de los autores: Rocío Menéndez&lt;b...</td>\n    </tr>\n    <tr>\n      <th>4</th>\n      <td>000122a9a774ec76fa35ec0c0f6734e7e8d0c541</td>\n      <td>10.1016/j.rec.2020.08.002</td>\n      <td>Introduction and objectives: The COVID-19 outb...</td>\n      <td>Introduction and objectives: The COVID-19 outb...</td>\n      <td>Rodríguez-Leor, Oriol.  Cid-Álvarez, Belén. &lt;...</td>\n      <td>Impact of COVID-19 on ST-segment elevation&lt;br...</td>\n      <td>Rev Esp Cardiol (Engl Ed)</td>\n      <td>Introduction and objectives: The COVID-19&lt;br&gt;...</td>\n    </tr>\n  </tbody>\n</table>\n</div>"
     },
     "execution_count": 25,
     "metadata": {},
     "output_type": "execute_result"
    }
   ],
   "source": [
    "from tqdm import tqdm\n",
    "dict_ = {'paper_id': [], 'doi':[], 'abstract': [], 'body_text': [], 'authors': [], 'title': [], 'journal': [], 'abstract_summary': []}\n",
    "for idx, entry in tqdm(enumerate(all_json), total = len(all_json)):\n",
    "\n",
    "    try:\n",
    "        content = FileReader(entry)\n",
    "    except Exception as e:\n",
    "        continue  # invalid paper format, skip\n",
    "\n",
    "    # get metadata information\n",
    "    meta_data = meta_df.loc[meta_df['sha'] == content.paper_id]\n",
    "    # no metadata, skip this paper\n",
    "    if len(meta_data) == 0:\n",
    "        continue\n",
    "    if len(content.body_text) == 0:\n",
    "        continue\n",
    "    dict_['abstract'].append(content.abstract)\n",
    "    dict_['paper_id'].append(content.paper_id)\n",
    "    dict_['body_text'].append(content.body_text)\n",
    "\n",
    "    # also create a column for the summary of abstract to be used in a plot\n",
    "    if len(content.abstract) == 0:\n",
    "        # no abstract provided\n",
    "        dict_['abstract_summary'].append(\"Not provided.\")\n",
    "    elif len(content.abstract.split(' ')) > 100:\n",
    "        # abstract provided is too long for plot, take first 300 words append with ...\n",
    "        info = content.abstract.split(' ')[:100]\n",
    "        summary = get_breaks(' '.join(info), 40)\n",
    "        dict_['abstract_summary'].append(summary + \"...\")\n",
    "    else:\n",
    "        # abstract is short enough\n",
    "        summary = get_breaks(content.abstract, 40)\n",
    "        dict_['abstract_summary'].append(summary)\n",
    "\n",
    "    # get metadata information\n",
    "    meta_data = meta_df.loc[meta_df['sha'] == content.paper_id]\n",
    "\n",
    "    try:\n",
    "        # if more than one author\n",
    "        authors = meta_data['authors'].values[0].split(';')\n",
    "        if len(authors) > 2:\n",
    "            # more than 2 authors, may be problem when plotting, so take first 2 append with ...\n",
    "            dict_['authors'].append(get_breaks('. '.join(authors), 40))\n",
    "        else:\n",
    "            # authors will fit in plot\n",
    "            dict_['authors'].append(\". \".join(authors))\n",
    "    except Exception as e:\n",
    "        # if only one author - or Null valie\n",
    "        dict_['authors'].append(meta_data['authors'].values[0])\n",
    "\n",
    "    # add the title information, add breaks when needed\n",
    "    try:\n",
    "        title = get_breaks(meta_data['title'].values[0], 40)\n",
    "        dict_['title'].append(title)\n",
    "    # if title was not provided\n",
    "    except Exception as e:\n",
    "        dict_['title'].append(meta_data['title'].values[0])\n",
    "\n",
    "    # add the journal information\n",
    "    dict_['journal'].append(meta_data['journal'].values[0])\n",
    "\n",
    "    # add doi\n",
    "    dict_['doi'].append(meta_data['doi'].values[0])\n",
    "\n",
    "df_covid = pd.DataFrame(dict_, columns=['paper_id', 'doi', 'abstract', 'body_text', 'authors', 'title', 'journal', 'abstract_summary'])\n",
    "df_covid.head()"
   ],
   "metadata": {
    "collapsed": false
   }
  },
  {
   "cell_type": "code",
   "execution_count": 26,
   "outputs": [],
   "source": [
    "# df_covid.to_csv('../Data/raw.csv')"
   ],
   "metadata": {
    "collapsed": false
   }
  },
  {
   "cell_type": "code",
   "execution_count": 27,
   "outputs": [
    {
     "name": "stdout",
     "output_type": "stream",
     "text": [
      "<class 'pandas.core.frame.DataFrame'>\n",
      "RangeIndex: 349422 entries, 0 to 349421\n",
      "Data columns (total 8 columns):\n",
      " #   Column            Non-Null Count   Dtype \n",
      "---  ------            --------------   ----- \n",
      " 0   paper_id          349422 non-null  object\n",
      " 1   doi               337261 non-null  object\n",
      " 2   abstract          349422 non-null  object\n",
      " 3   body_text         349422 non-null  object\n",
      " 4   authors           346559 non-null  object\n",
      " 5   title             349418 non-null  object\n",
      " 6   journal           318173 non-null  object\n",
      " 7   abstract_summary  349422 non-null  object\n",
      "dtypes: object(8)\n",
      "memory usage: 21.3+ MB\n"
     ]
    }
   ],
   "source": [
    "df_covid.info()"
   ],
   "metadata": {
    "collapsed": false
   }
  },
  {
   "cell_type": "code",
   "execution_count": null,
   "outputs": [],
   "source": [
    "df_covid.head()"
   ],
   "metadata": {
    "collapsed": false
   }
  }
 ],
 "metadata": {
  "kernelspec": {
   "display_name": "Python 3",
   "language": "python",
   "name": "python3"
  },
  "language_info": {
   "codemirror_mode": {
    "name": "ipython",
    "version": 2
   },
   "file_extension": ".py",
   "mimetype": "text/x-python",
   "name": "python",
   "nbconvert_exporter": "python",
   "pygments_lexer": "ipython2",
   "version": "2.7.6"
  }
 },
 "nbformat": 4,
 "nbformat_minor": 0
}
